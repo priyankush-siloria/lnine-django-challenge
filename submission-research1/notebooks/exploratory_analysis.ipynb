{
 "cells": [
  {
   "cell_type": "markdown",
   "metadata": {},
   "source": []
  },
  {
   "cell_type": "code",
   "execution_count": null,
   "metadata": {
    "vscode": {
     "languageId": "plaintext"
    }
   },
   "outputs": [],
   "source": [
    "import pandas as pd\n",
    "from src.data_processing import load_data, clean_data\n",
    "from src.visualization import plot_data\n",
    "\n",
    "# Load and clean data\n",
    "data = load_data(\"data/raw/sample_data.csv\")\n",
    "cleaned_data = clean_data(data)\n",
    "\n",
    "# Plot the cleaned data\n",
    "plot_data(cleaned_data, x_col=\"feature1\", y_col=\"value\")"
   ]
  }
 ],
 "metadata": {
  "kernelspec": {
   "display_name": "base",
   "language": "python",
   "name": "python3"
  },
  "language_info": {
   "codemirror_mode": {
    "name": "ipython",
    "version": 3
   },
   "file_extension": ".py",
   "mimetype": "text/x-python",
   "name": "python",
   "nbconvert_exporter": "python",
   "pygments_lexer": "ipython3",
   "version": "3.12.7"
  }
 },
 "nbformat": 4,
 "nbformat_minor": 2
}
